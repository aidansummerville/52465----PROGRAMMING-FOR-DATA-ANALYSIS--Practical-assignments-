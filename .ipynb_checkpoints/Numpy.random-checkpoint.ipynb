{
 "cells": [
  {
   "cell_type": "markdown",
   "metadata": {},
   "source": [
    "# The Numpy Random Package"
   ]
  },
  {
   "cell_type": "code",
   "execution_count": 33,
   "metadata": {},
   "outputs": [],
   "source": [
    "import numpy as np\n",
    "import matplotlib.pyplot as plt\n",
    "import pandas as pd"
   ]
  },
  {
   "cell_type": "markdown",
   "metadata": {},
   "source": [
    "Importing packages that will be used within this notebook"
   ]
  },
  {
   "cell_type": "markdown",
   "metadata": {},
   "source": [
    "## Purpose of the Package"
   ]
  },
  {
   "cell_type": "markdown",
   "metadata": {},
   "source": [
    "## Simple Random Data"
   ]
  },
  {
   "cell_type": "markdown",
   "metadata": {},
   "source": [
    "### Rand & Randn"
   ]
  },
  {
   "cell_type": "markdown",
   "metadata": {},
   "source": [
    "The rand function (np.random.rand) creates positives random uniform numbers within an array. The numbers can range from 0.0 and 1.0 and the user can input the paramater for the number of rows and then the paramters for the number of columns."
   ]
  },
  {
   "cell_type": "markdown",
   "metadata": {},
   "source": [
    "The np.random.randn function returns a number or numbers within a shape of the normal standard distribution. A normal distribution is where the data is around a central location and not biased left ot right. A standard normal distribution is a normal distribution with a mean of 0 meaning its central points is over the point 0. And has a standard deviation of 1. The shape this dataset makes is sometimes called a bell curve."
   ]
  },
  {
   "cell_type": "code",
   "execution_count": 2,
   "metadata": {},
   "outputs": [
    {
     "data": {
      "text/plain": [
       "(array([  12.,  114.,  530., 1529., 2668., 2684., 1692.,  610.,  132.,\n",
       "          29.]),\n",
       " array([-3.68456745, -2.95383025, -2.22309305, -1.49235584, -0.76161864,\n",
       "        -0.03088144,  0.69985576,  1.43059296,  2.16133017,  2.89206737,\n",
       "         3.62280457]),\n",
       " <a list of 10 Patch objects>)"
      ]
     },
     "execution_count": 2,
     "metadata": {},
     "output_type": "execute_result"
    },
    {
     "data": {
      "image/png": "[encoded data removed]",
      "text/plain": [
       "<Figure size 432x288 with 2 Axes>"
      ]
     },
     "metadata": {},
     "output_type": "display_data"
    }
   ],
   "source": [
    "r = np.random.rand(10000)\n",
    "plt.subplot(1, 2, 1)\n",
    "plt.title('Rand')\n",
    "plt.hist(r)\n",
    "\n",
    "rn = np.random.randn(10000)\n",
    "plt.subplot(1, 2, 2)\n",
    "plt.title('Randn')\n",
    "plt.hist(rn)"
   ]
  },
  {
   "cell_type": "markdown",
   "metadata": {},
   "source": [
    "The above plots show the Rand and Randn functions from numpy.random. The plots have the same parameters as each other difference are the functions. The rand function creates data that is uniform or evenly distributed across the range of the graph. The randn function creates normal data or data that is in the shape of a bell curve, it is also standard normal data which means the mean is 0, the peak is centered around 0. The standard deviation is also 1."
   ]
  },
  {
   "cell_type": "code",
   "execution_count": 7,
   "metadata": {},
   "outputs": [
    {
     "data": {
      "text/plain": [
       "([array([0., 0., 0., 0., 1., 1., 0., 0., 0., 0.]),\n",
       "  array([0., 0., 0., 0., 0., 0., 1., 1., 0., 0.]),\n",
       "  array([1., 0., 0., 0., 1., 0., 0., 0., 0., 0.]),\n",
       "  array([0., 0., 1., 0., 0., 0., 0., 0., 0., 1.]),\n",
       "  array([0., 0., 0., 0., 1., 1., 0., 0., 0., 0.]),\n",
       "  array([0., 0., 0., 0., 2., 0., 0., 0., 0., 0.])],\n",
       " array([-1.89560067, -1.55902248, -1.22244428, -0.88586609, -0.5492879 ,\n",
       "        -0.2127097 ,  0.12386849,  0.46044668,  0.79702488,  1.13360307,\n",
       "         1.47018126]),\n",
       " <a list of 6 Lists of Patches objects>)"
      ]
     },
     "execution_count": 7,
     "metadata": {},
     "output_type": "execute_result"
    },
    {
     "data": {
      "image/png": "[encoded data removed]",
      "text/plain": [
       "<Figure size 432x288 with 2 Axes>"
      ]
     },
     "metadata": {},
     "output_type": "display_data"
    }
   ],
   "source": [
    "r1 = np.random.rand(2,6)\n",
    "plt.subplot(1, 2, 1)\n",
    "plt.title('Rand')\n",
    "plt.hist(r1)\n",
    "\n",
    "rn1= np.random.randn(2,6)\n",
    "plt.subplot(1, 2, 2)\n",
    "plt.title('Randn')\n",
    "plt.hist(rn1)"
   ]
  },
  {
   "cell_type": "markdown",
   "metadata": {},
   "source": [
    "In the above plots the paramters of rows and columns have been added to the plots. The parameters are  in both cases identical.\n",
    "The rows are represented by different colours on the plot. While the columns are represented by the number of times that colour appears."
   ]
  },
  {
   "cell_type": "code",
   "execution_count": 17,
   "metadata": {},
   "outputs": [
    {
     "data": {
      "text/plain": [
       "([array([0., 0., 0., 2., 3., 1., 0., 0., 0., 0.]),\n",
       "  array([1., 1., 1., 1., 0., 1., 0., 0., 0., 1.])],\n",
       " array([-1.88555379, -1.48759913, -1.08964446, -0.6916898 , -0.29373514,\n",
       "         0.10421953,  0.50217419,  0.90012885,  1.29808352,  1.69603818,\n",
       "         2.09399284]),\n",
       " <a list of 2 Lists of Patches objects>)"
      ]
     },
     "execution_count": 17,
     "metadata": {},
     "output_type": "execute_result"
    },
    {
     "data": {
      "image/png": "[encoded data removed]",
      "text/plain": [
       "<Figure size 432x288 with 2 Axes>"
      ]
     },
     "metadata": {},
     "output_type": "display_data"
    }
   ],
   "source": [
    "r2 = np.random.rand(6,2)\n",
    "plt.subplot(1, 2, 1)\n",
    "plt.title('Rand')\n",
    "plt.hist(r2)\n",
    "\n",
    "rn2= np.random.randn(6,2)\n",
    "plt.subplot(1, 2, 2)\n",
    "plt.title('Randn')\n",
    "plt.hist(rn2)"
   ]
  },
  {
   "cell_type": "markdown",
   "metadata": {},
   "source": [
    "This plot has the size of the parameters reversed. Showing a larger number of columns represented by the number of times the colour appears."
   ]
  },
  {
   "cell_type": "markdown",
   "metadata": {},
   "source": [
    "Both the rand and randn functions work almost indetically creating arrays of a certain amount of rows and columns that is decided the by the parameters input by the user. The only diference is the type of data created by the functions. Rand creating uniform and randn creating standard normal data."
   ]
  },
  {
   "cell_type": "markdown",
   "metadata": {},
   "source": [
    "### Randint & Random_integers"
   ]
  },
  {
   "cell_type": "markdown",
   "metadata": {},
   "source": [
    "Randint and Random_integers functions both work very simlarly. They take inputs of low, high and size and both use discrete uniform distribution. The functions generates random whole numbers between the low and high limits until each space in the array is filled. Each number has the same likely hood of being represented at each output no mater weather it has already been resprented previously in the array."
   ]
  },
  {
   "cell_type": "code",
   "execution_count": 56,
   "metadata": {},
   "outputs": [
    {
     "name": "stderr",
     "output_type": "stream",
     "text": [
      "C:\\Users\\Aidan\\Anaconda3\\lib\\site-packages\\ipykernel_launcher.py:6: DeprecationWarning: This function is deprecated. Please call randint(1, 5 + 1) instead\n",
      "  \n"
     ]
    },
    {
     "data": {
      "text/plain": [
       "(array([4., 0., 1., 0., 0., 0., 0., 2., 0., 3.]),\n",
       " array([1. , 1.4, 1.8, 2.2, 2.6, 3. , 3.4, 3.8, 4.2, 4.6, 5. ]),\n",
       " <a list of 10 Patch objects>)"
      ]
     },
     "execution_count": 56,
     "metadata": {},
     "output_type": "execute_result"
    },
    {
     "data": {
      "image/png": "[encoded data removed]",
      "text/plain": [
       "<Figure size 432x288 with 2 Axes>"
      ]
     },
     "metadata": {},
     "output_type": "display_data"
    }
   ],
   "source": [
    "ri = np.random.randint(5, size=(10))\n",
    "plt.subplot(1, 2, 1)\n",
    "plt.title('Randint')\n",
    "plt.hist(ri)\n",
    "\n",
    "rint = np.random.random_integers(5, size=(10))\n",
    "plt.subplot(1, 2, 2)\n",
    "plt.title('Random_integers')\n",
    "plt.hist(rint)"
   ]
  },
  {
   "cell_type": "markdown",
   "metadata": {},
   "source": [
    "Both the randint and random_integers plots above have identical paramenters. In both cases if no high parameter is present the low parameter in this case 5 becomes the high paramter and the low parameter becomes 0 in the randint cases and 1 in random_integers case. Randint highiest value = high-1(5-1). Random_integer = High (5)"
   ]
  },
  {
   "cell_type": "code",
   "execution_count": 52,
   "metadata": {},
   "outputs": [
    {
     "name": "stderr",
     "output_type": "stream",
     "text": [
      "C:\\Users\\Aidan\\Anaconda3\\lib\\site-packages\\ipykernel_launcher.py:6: DeprecationWarning: This function is deprecated. Please call randint(1, 5 + 1) instead\n",
      "  \n"
     ]
    },
    {
     "data": {
      "text/plain": [
       "([array([0., 0., 0., 0., 0., 2., 0., 0., 0., 0.]),\n",
       "  array([1., 0., 0., 0., 0., 0., 0., 0., 0., 1.]),\n",
       "  array([2., 0., 0., 0., 0., 0., 0., 0., 0., 0.]),\n",
       "  array([0., 0., 0., 0., 0., 2., 0., 0., 0., 0.])],\n",
       " array([2. , 2.2, 2.4, 2.6, 2.8, 3. , 3.2, 3.4, 3.6, 3.8, 4. ]),\n",
       " <a list of 4 Lists of Patches objects>)"
      ]
     },
     "execution_count": 52,
     "metadata": {},
     "output_type": "execute_result"
    },
    {
     "data": {
      "image/png": "[encoded data removed]",
      "text/plain": [
       "<Figure size 432x288 with 2 Axes>"
      ]
     },
     "metadata": {},
     "output_type": "display_data"
    }
   ],
   "source": [
    "ri1 = np.random.randint(5, size=(2,4))\n",
    "plt.subplot(1, 2, 1)\n",
    "plt.title('Randint')\n",
    "plt.hist(ri1)\n",
    "\n",
    "rint1 = np.random.random_integers(5, size=(2,4))\n",
    "plt.subplot(1, 2, 2)\n",
    "plt.title('Random_integers')\n",
    "plt.hist(rint1)"
   ]
  },
  {
   "cell_type": "markdown",
   "metadata": {},
   "source": [
    "Adding a second variable the size parameter creates an array of rows and columns simliarly to the rand & randn functions. The rows are represented by colours and the coulumns by the number of times the colours appear"
   ]
  },
  {
   "cell_type": "code",
   "execution_count": 58,
   "metadata": {},
   "outputs": [
    {
     "name": "stderr",
     "output_type": "stream",
     "text": [
      "C:\\Users\\Aidan\\Anaconda3\\lib\\site-packages\\ipykernel_launcher.py:6: DeprecationWarning: This function is deprecated. Please call randint(5, 10 + 1) instead\n",
      "  \n"
     ]
    },
    {
     "data": {
      "text/plain": [
       "(array([4., 0., 3., 0., 2., 0., 4., 0., 2., 5.]),\n",
       " array([ 5. ,  5.5,  6. ,  6.5,  7. ,  7.5,  8. ,  8.5,  9. ,  9.5, 10. ]),\n",
       " <a list of 10 Patch objects>)"
      ]
     },
     "execution_count": 58,
     "metadata": {},
     "output_type": "execute_result"
    },
    {
     "data": {
      "image/png": "[encoded data removed]",
      "text/plain": [
       "<Figure size 432x288 with 2 Axes>"
      ]
     },
     "metadata": {},
     "output_type": "display_data"
    }
   ],
   "source": [
    "ri2 = np.random.randint(5,high =10, size=(20))\n",
    "plt.subplot(1, 2, 1)\n",
    "plt.title('Randint')\n",
    "plt.hist(ri2)\n",
    "\n",
    "rint2 = np.random.random_integers(5, high= 10 ,size=(20))\n",
    "plt.subplot(1, 2, 2)\n",
    "plt.title('Random_integers')\n",
    "plt.hist(rint2)"
   ]
  },
  {
   "cell_type": "markdown",
   "metadata": {},
   "source": [
    "In the plots above the the high parameter has been added to both plots. This moves the paramter that was acting as the high paramter when only one existed to the low parameter and. the new paramter becomes the high value. While when there is no low paramter set the randint starts from 0 and the random_integer starts from 1. When the low paramter is set both functions start from that value."
   ]
  },
  {
   "cell_type": "markdown",
   "metadata": {},
   "source": [
    "### Random_sample, Random, Ranf & Sample"
   ]
  },
  {
   "cell_type": "markdown",
   "metadata": {},
   "source": [
    "Random_sample, Random, Ranf and Sample all take the eact same parameters and output random numbers in an identical way using the contunious uniform distribution between 0.0 and 1.0."
   ]
  },
  {
   "cell_type": "code",
   "execution_count": 9,
   "metadata": {},
   "outputs": [
    {
     "data": {
      "text/plain": [
       "(array([ 97., 128., 111.,  92.,  97., 109.,  89.,  82.,  79., 116.]),\n",
       " array([1.40102939e-04, 1.00108688e-01, 2.00077273e-01, 3.00045858e-01,\n",
       "        4.00014443e-01, 4.99983028e-01, 5.99951614e-01, 6.99920199e-01,\n",
       "        7.99888784e-01, 8.99857369e-01, 9.99825954e-01]),\n",
       " <a list of 10 Patch objects>)"
      ]
     },
     "execution_count": 9,
     "metadata": {},
     "output_type": "execute_result"
    },
    {
     "data": {
      "image/png": "[encoded data removed]",
      "text/plain": [
       "<Figure size 432x288 with 4 Axes>"
      ]
     },
     "metadata": {},
     "output_type": "display_data"
    }
   ],
   "source": [
    "\n",
    "rs = np.random.random_sample((1000,))\n",
    "plt.subplot(3, 2, 1)\n",
    "plt.title('Random_sample')\n",
    "plt.hist(rs)\n",
    "\n",
    "ran = np.random.random((1000,))\n",
    "plt.subplot(3, 2, 2)\n",
    "plt.title('Random')\n",
    "plt.hist(ran)\n",
    "\n",
    "ranf = np.random.ranf((1000,))\n",
    "plt.subplot(3, 2, 5)\n",
    "plt.title('Ranf')\n",
    "plt.hist(ranf)\n",
    "\n",
    "samp = np.random.sample((1000,))\n",
    "plt.subplot(3, 2, 6)\n",
    "plt.title('Sample')\n",
    "plt.hist(samp)"
   ]
  },
  {
   "cell_type": "code",
   "execution_count": null,
   "metadata": {},
   "outputs": [],
   "source": []
  },
  {
   "cell_type": "code",
   "execution_count": 12,
   "metadata": {},
   "outputs": [
    {
     "data": {
      "text/plain": [
       "([array([0., 0., 0., 0., 1., 0., 0., 1., 0., 0.]),\n",
       "  array([0., 1., 0., 0., 1., 0., 0., 0., 0., 0.]),\n",
       "  array([1., 0., 1., 0., 0., 0., 0., 0., 0., 0.]),\n",
       "  array([0., 0., 0., 0., 0., 1., 0., 1., 0., 0.]),\n",
       "  array([0., 0., 0., 1., 0., 0., 0., 0., 1., 0.]),\n",
       "  array([1., 0., 0., 0., 0., 0., 0., 0., 0., 1.])],\n",
       " array([0.14764673, 0.22350359, 0.29936046, 0.37521732, 0.45107418,\n",
       "        0.52693104, 0.60278791, 0.67864477, 0.75450163, 0.83035849,\n",
       "        0.90621535]),\n",
       " <a list of 6 Lists of Patches objects>)"
      ]
     },
     "execution_count": 12,
     "metadata": {},
     "output_type": "execute_result"
    },
    {
     "data": {
      "image/png": "[encoded data removed]",
      "text/plain": [
       "<Figure size 432x288 with 4 Axes>"
      ]
     },
     "metadata": {},
     "output_type": "display_data"
    }
   ],
   "source": [
    "rs1 = np.random.random_sample((2,6))\n",
    "plt.subplot(3, 2, 1)\n",
    "plt.title('Random_sample')\n",
    "plt.hist(rs1)\n",
    "\n",
    "ran1 = np.random.random((2,6))\n",
    "plt.subplot(3, 2, 2)\n",
    "plt.title('Random')\n",
    "plt.hist(ran1)\n",
    "\n",
    "ranf1 = np.random.ranf((2,6))\n",
    "plt.subplot(3, 2, 5)\n",
    "plt.title('Ranf')\n",
    "plt.hist(ranf1)\n",
    "\n",
    "samp1 = np.random.sample((2,6))\n",
    "plt.subplot(3, 2, 6)\n",
    "plt.title('Sample')\n",
    "plt.hist(samp1)"
   ]
  },
  {
   "cell_type": "code",
   "execution_count": 13,
   "metadata": {},
   "outputs": [
    {
     "data": {
      "text/plain": [
       "([array([1., 1., 0., 0., 1., 1., 1., 0., 1., 0.]),\n",
       "  array([1., 0., 1., 0., 1., 0., 1., 0., 1., 1.])],\n",
       " array([0.01223331, 0.10918628, 0.20613926, 0.30309223, 0.4000452 ,\n",
       "        0.49699817, 0.59395114, 0.69090412, 0.78785709, 0.88481006,\n",
       "        0.98176303]),\n",
       " <a list of 2 Lists of Patches objects>)"
      ]
     },
     "execution_count": 13,
     "metadata": {},
     "output_type": "execute_result"
    },
    {
     "data": {
      "image/png": "[encoded data removed]",
      "text/plain": [
       "<Figure size 432x288 with 4 Axes>"
      ]
     },
     "metadata": {},
     "output_type": "display_data"
    }
   ],
   "source": [
    "rs2 = np.random.random_sample((6,2))\n",
    "plt.subplot(3, 2, 1)\n",
    "plt.title('Random_sample')\n",
    "plt.hist(rs2)\n",
    "\n",
    "ran2 = np.random.random((6,2))\n",
    "plt.subplot(3, 2, 2)\n",
    "plt.title('Random')\n",
    "plt.hist(ran2)\n",
    "\n",
    "ranf2 = np.random.ranf((6,2))\n",
    "plt.subplot(3, 2, 5)\n",
    "plt.title('Ranf')\n",
    "plt.hist(ranf2)\n",
    "\n",
    "samp2 = np.random.sample((6,2))\n",
    "plt.subplot(3, 2, 6)\n",
    "plt.title('Sample')\n",
    "plt.hist(samp2)"
   ]
  },
  {
   "cell_type": "code",
   "execution_count": 15,
   "metadata": {},
   "outputs": [
    {
     "data": {
      "text/plain": [
       "array([[0.25315465, 0.90919409],\n",
       "       [0.5757287 , 0.27540855],\n",
       "       [0.38347837, 0.40407789],\n",
       "       [0.12832975, 0.58336472],\n",
       "       [0.20085513, 0.95865938],\n",
       "       [0.94130304, 0.30640836]])"
      ]
     },
     "execution_count": 15,
     "metadata": {},
     "output_type": "execute_result"
    }
   ],
   "source": [
    "ranf2"
   ]
  },
  {
   "cell_type": "markdown",
   "metadata": {},
   "source": [
    "### Choice"
   ]
  },
  {
   "cell_type": "markdown",
   "metadata": {},
   "source": [
    "The choic function has 4 seperate parameters. Thease paramters are a, size, replace and p. Each of the paramters performs a different task. When the choice paramter is used it gives the users a random set of a varibales within 0 and and the a parameter. In the shape of an array set by the size paramter. That may or may not repeat themselves if the replace values is true or false. The p value determines the the probabilty of each integer appearing and if is not set the distribution is normal."
   ]
  },
  {
   "cell_type": "code",
   "execution_count": 5,
   "metadata": {},
   "outputs": [
    {
     "data": {
      "text/plain": [
       "4"
      ]
     },
     "execution_count": 5,
     "metadata": {},
     "output_type": "execute_result"
    }
   ],
   "source": [
    "np.random.choice(6)"
   ]
  },
  {
   "cell_type": "markdown",
   "metadata": {},
   "source": [
    "The first parameter set above is the a paramter which determines the number of integers that the result may be selected from. The result may be selected from between a<r=0 in this case it is 6<4=0"
   ]
  },
  {
   "cell_type": "code",
   "execution_count": 6,
   "metadata": {},
   "outputs": [
    {
     "data": {
      "text/plain": [
       "array([[0, 5],\n",
       "       [3, 1]])"
      ]
     },
     "execution_count": 6,
     "metadata": {},
     "output_type": "execute_result"
    }
   ],
   "source": [
    "np.random.choice(6,size=(2,2))"
   ]
  },
  {
   "cell_type": "markdown",
   "metadata": {},
   "source": [
    "The next parmeter is the size paramter this sets how many resluts may be formed and in what shape. The two variables within the size parameter indicate the number of rows and columns. The choice function will generate integers less than a to fill the array which the users sets. If only one size variable is enetered the choice function will create row of the length."
   ]
  },
  {
   "cell_type": "code",
   "execution_count": 12,
   "metadata": {},
   "outputs": [
    {
     "data": {
      "text/plain": [
       "array([[2, 3],\n",
       "       [4, 0]])"
      ]
     },
     "execution_count": 12,
     "metadata": {},
     "output_type": "execute_result"
    }
   ],
   "source": [
    "np.random.choice(6,size=(2,2),replace = False)"
   ]
  },
  {
   "cell_type": "markdown",
   "metadata": {},
   "source": [
    "The replace parameter  determeines weather integers can repeat themseves. If set to true integers within the array may repeat themselves. If replace = False integers cannot be in an array more than once. When the replace parameter =  False the size of the array must be equal to or less than the a paramter to allow the function to run. If otherwise there would not ne enough integers to fill the array. "
   ]
  },
  {
   "cell_type": "code",
   "execution_count": 19,
   "metadata": {},
   "outputs": [
    {
     "data": {
      "text/plain": [
       "array([[2, 3],\n",
       "       [4, 0]])"
      ]
     },
     "execution_count": 19,
     "metadata": {},
     "output_type": "execute_result"
    }
   ],
   "source": [
    " np.random.choice(5,size=(2,2),replace = False, p=[0.1, 0.1, 0.3, 0.3, 0.2])"
   ]
  },
  {
   "cell_type": "markdown",
   "metadata": {},
   "source": [
    "The p parameter determines the probaility of an integer being selected. If the p function is not set the probilty is uniformly distributed. A user may set the probiltys of each values within  the function being chooesn. All of the p values must add up to 1.0. If the number of p values do not equal the number of a values the function will return an error."
   ]
  },
  {
   "cell_type": "markdown",
   "metadata": {},
   "source": [
    "### Bytes"
   ]
  },
  {
   "cell_type": "code",
   "execution_count": 31,
   "metadata": {},
   "outputs": [
    {
     "data": {
      "text/plain": [
       "b'2\\xc1\\x13\\xf5\\xba}\\x81p'"
      ]
     },
     "execution_count": 31,
     "metadata": {},
     "output_type": "execute_result"
    }
   ],
   "source": [
    "np.random.bytes(8)"
   ]
  },
  {
   "cell_type": "markdown",
   "metadata": {},
   "source": [
    "The random.bytes function has only one paramter length. The bytes function returns randolmy generated bytes of length determened by the user. The length in put must be a positive integer for the function to work"
   ]
  },
  {
   "cell_type": "markdown",
   "metadata": {},
   "source": [
    "## Permutations"
   ]
  },
  {
   "cell_type": "markdown",
   "metadata": {},
   "source": [
    "### Shuffle"
   ]
  },
  {
   "cell_type": "code",
   "execution_count": 12,
   "metadata": {},
   "outputs": [
    {
     "data": {
      "text/plain": [
       "array([ 0,  1,  2,  3,  4,  5,  6,  7,  8,  9, 10, 11])"
      ]
     },
     "execution_count": 12,
     "metadata": {},
     "output_type": "execute_result"
    }
   ],
   "source": [
    "arr = np.arange(12)\n",
    "arr"
   ]
  },
  {
   "cell_type": "markdown",
   "metadata": {},
   "source": [
    "The shuffle parameter rearranges an array an array randomly."
   ]
  },
  {
   "cell_type": "code",
   "execution_count": 11,
   "metadata": {},
   "outputs": [
    {
     "data": {
      "text/plain": [
       "array([ 8,  0,  6,  2,  9, 11,  3,  5, 10,  1,  4,  7])"
      ]
     },
     "execution_count": 11,
     "metadata": {},
     "output_type": "execute_result"
    }
   ],
   "source": [
    "np.random.shuffle(arr)\n",
    "arr\n"
   ]
  },
  {
   "cell_type": "markdown",
   "metadata": {},
   "source": [
    "The shuffle function allows the user to randomly redistribute the list into a mutidimensional array. The new array has the same content of intehers as the the intail list however the numbers are shuffled across a multi dimensional array of the same overall size as the first single dimension array."
   ]
  },
  {
   "cell_type": "code",
   "execution_count": 18,
   "metadata": {},
   "outputs": [
    {
     "data": {
      "text/plain": [
       "array([[ 8,  9, 10, 11],\n",
       "       [ 4,  5,  6,  7],\n",
       "       [ 0,  1,  2,  3]])"
      ]
     },
     "execution_count": 18,
     "metadata": {},
     "output_type": "execute_result"
    }
   ],
   "source": [
    "arr = np.arange(12).reshape((3, 4))\n",
    "np.random.shuffle(arr)\n",
    "arr"
   ]
  },
  {
   "cell_type": "markdown",
   "metadata": {},
   "source": [
    "If the reshape paramters multiple is not equal to the the size of the array the user will recive an error."
   ]
  },
  {
   "cell_type": "code",
   "execution_count": 19,
   "metadata": {},
   "outputs": [
    {
     "ename": "ValueError",
     "evalue": "cannot reshape array of size 12 into shape (1,4)",
     "output_type": "error",
     "traceback": [
      "\u001b[1;31m---------------------------------------------------------------------------\u001b[0m",
      "\u001b[1;31mValueError\u001b[0m                                Traceback (most recent call last)",
      "\u001b[1;32m<ipython-input-19-faedbf491fd8>\u001b[0m in \u001b[0;36m<module>\u001b[1;34m()\u001b[0m\n\u001b[1;32m----> 1\u001b[1;33m \u001b[0marr\u001b[0m \u001b[1;33m=\u001b[0m \u001b[0mnp\u001b[0m\u001b[1;33m.\u001b[0m\u001b[0marange\u001b[0m\u001b[1;33m(\u001b[0m\u001b[1;36m12\u001b[0m\u001b[1;33m)\u001b[0m\u001b[1;33m.\u001b[0m\u001b[0mreshape\u001b[0m\u001b[1;33m(\u001b[0m\u001b[1;33m(\u001b[0m\u001b[1;36m1\u001b[0m\u001b[1;33m,\u001b[0m \u001b[1;36m4\u001b[0m\u001b[1;33m)\u001b[0m\u001b[1;33m)\u001b[0m\u001b[1;33m\u001b[0m\u001b[0m\n\u001b[0m\u001b[0;32m      2\u001b[0m \u001b[0mnp\u001b[0m\u001b[1;33m.\u001b[0m\u001b[0mrandom\u001b[0m\u001b[1;33m.\u001b[0m\u001b[0mshuffle\u001b[0m\u001b[1;33m(\u001b[0m\u001b[0marr\u001b[0m\u001b[1;33m)\u001b[0m\u001b[1;33m\u001b[0m\u001b[0m\n\u001b[0;32m      3\u001b[0m \u001b[0marr\u001b[0m\u001b[1;33m\u001b[0m\u001b[0m\n",
      "\u001b[1;31mValueError\u001b[0m: cannot reshape array of size 12 into shape (1,4)"
     ]
    }
   ],
   "source": [
    "arr = np.arange(12).reshape((1, 4))\n",
    "np.random.shuffle(arr)\n",
    "arr"
   ]
  },
  {
   "cell_type": "markdown",
   "metadata": {},
   "source": [
    "### Permutation"
   ]
  },
  {
   "cell_type": "code",
   "execution_count": 5,
   "metadata": {},
   "outputs": [
    {
     "data": {
      "text/plain": [
       "array([2, 4, 0, 9, 5, 7, 1, 8, 3, 6])"
      ]
     },
     "execution_count": 5,
     "metadata": {},
     "output_type": "execute_result"
    }
   ],
   "source": [
    "np.random.permutation(10)\n"
   ]
  },
  {
   "cell_type": "markdown",
   "metadata": {},
   "source": [
    "## Distrobutions"
   ]
  },
  {
   "cell_type": "markdown",
   "metadata": {},
   "source": [
    "### Uniform"
   ]
  },
  {
   "cell_type": "markdown",
   "metadata": {},
   "source": [
    "<img src=\"attachment:img/uniform.jpg\" width=\"400\">"
   ]
  },
  {
   "cell_type": "markdown",
   "metadata": {},
   "source": [
    "The uniform distrobution"
   ]
  },
  {
   "cell_type": "markdown",
   "metadata": {},
   "source": [
    "![Uniform Distrobution](img/uniform.jpg)"
   ]
  },
  {
   "cell_type": "code",
   "execution_count": 14,
   "metadata": {},
   "outputs": [
    {
     "data": {
      "image/png": "[encoded data removed]",
      "text/plain": [
       "<Figure size 432x288 with 1 Axes>"
      ]
     },
     "metadata": {},
     "output_type": "display_data"
    }
   ],
   "source": [
    "\n",
    "\n",
    "s = np.random.uniform(0,1,1000)\n",
    "\n",
    "np.all(s >= 0)\n",
    "\n",
    "np.all(s < 1)\n",
    "\n",
    "count, bins, ignored = plt.hist(s, 15, density=True)\n",
    "plt.plot(bins, np.ones_like(bins), linewidth=2, color='r')\n",
    "plt.show()"
   ]
  },
  {
   "cell_type": "markdown",
   "metadata": {},
   "source": [
    "A uniform distrobution is a distroubuton that has a constant proballity. The probality of each possible outcome is equal and if a high enough sample is taken the results should be equal ir almost equal. The shape represented is similar to a rectangle. Sometimes the uniform distrobutiion is called the rectangular disrobution."
   ]
  },
  {
   "cell_type": "code",
   "execution_count": 20,
   "metadata": {},
   "outputs": [
    {
     "data": {
      "text/plain": [
       "(array([ 981.,  962., 1027., 1020., 1055.,  992., 1037.,  921., 1002.,\n",
       "        1003.]),\n",
       " array([1.36361253e-04, 1.00116365e-01, 2.00096369e-01, 3.00076373e-01,\n",
       "        4.00056377e-01, 5.00036381e-01, 6.00016385e-01, 6.99996389e-01,\n",
       "        7.99976393e-01, 8.99956397e-01, 9.99936401e-01]),\n",
       " <a list of 10 Patch objects>)"
      ]
     },
     "execution_count": 20,
     "metadata": {},
     "output_type": "execute_result"
    },
    {
     "data": {
      "image/png": "[encoded data removed]",
      "text/plain": [
       "<Figure size 432x288 with 4 Axes>"
      ]
     },
     "metadata": {},
     "output_type": "display_data"
    }
   ],
   "source": [
    "uni1 = np.random.uniform(0,1,10)\n",
    "plt.subplot(3, 2, 1)\n",
    "plt.title('Uniform 10')\n",
    "plt.hist(uni1)\n",
    "\n",
    "uni2 = np.random.uniform(0,1,100)\n",
    "plt.subplot(3, 2, 2)\n",
    "plt.title('Uniform 100')\n",
    "plt.hist(uni2)\n",
    "\n",
    "uni3 = np.random.uniform(0,1,1000)\n",
    "plt.subplot(3, 2, 5)\n",
    "plt.title('Uniform 1000')\n",
    "plt.hist(uni3)\n",
    "\n",
    "uni4 = np.random.uniform(0,1,10000)\n",
    "plt.subplot(3, 2, 6)\n",
    "plt.title('Uniform 10000')\n",
    "plt.hist(uni4)"
   ]
  },
  {
   "cell_type": "markdown",
   "metadata": {},
   "source": [
    "The above plots shows the distrobutions acroos an increased number in each sample. As the number increases from 10 - 10000 across the plots the uniform distrubuttions rectangular shape begins to take place."
   ]
  },
  {
   "cell_type": "markdown",
   "metadata": {},
   "source": [
    "### Normal"
   ]
  },
  {
   "cell_type": "markdown",
   "metadata": {},
   "source": [
    "A normal distrobution is the most commonly seen distrobution in statistics. It is sometimes known as the bell curve. Normal distrobutions are symmetrical arounds their mean. The mean, median and mode are equal. The curve is densist around a central point. The area 1 standard devviation under the curve is 68%, while the area underneath 2 standard deviations of the curve is 95%. "
   ]
  },
  {
   "cell_type": "markdown",
   "metadata": {},
   "source": [
    "![Normal Distrobution](img/normal.png)"
   ]
  },
  {
   "cell_type": "code",
   "execution_count": 2,
   "metadata": {},
   "outputs": [
    {
     "data": {
      "image/png": "[encoded data removed]",
      "text/plain": [
       "<Figure size 432x288 with 1 Axes>"
      ]
     },
     "metadata": {},
     "output_type": "display_data"
    }
   ],
   "source": [
    "mu, sigma = 0, 0.1    # mean and standard deviation\n",
    "s = np.random.normal(mu, sigma, 1000)\n",
    "\n",
    "abs(mu - np.mean(s)) < 0.01\n",
    "\n",
    "abs(sigma - np.std(s, ddof=1)) < 0.01\n",
    "\n",
    "count, bins, ignored = plt.hist(s, 60, density=True)\n",
    "plt.plot(bins, 1/(sigma * np.sqrt(2 * np.pi)) *\n",
    "               np.exp( - (bins - mu)**2 / (2 * sigma**2) ),\n",
    "         linewidth=2, color='r')\n",
    "plt.show()"
   ]
  },
  {
   "cell_type": "markdown",
   "metadata": {},
   "source": [
    "### Exponential"
   ]
  },
  {
   "cell_type": "code",
   "execution_count": null,
   "metadata": {},
   "outputs": [],
   "source": []
  },
  {
   "cell_type": "markdown",
   "metadata": {},
   "source": [
    "![Exponential Distrobution 1](img/exponential1.png)\n",
    "![Exponential Distrobution 2](img/exponential2.png)"
   ]
  },
  {
   "cell_type": "code",
   "execution_count": 57,
   "metadata": {},
   "outputs": [
    {
     "name": "stderr",
     "output_type": "stream",
     "text": [
      "C:\\Users\\Aidan\\Anaconda3\\lib\\site-packages\\matplotlib\\legend.py:794: UserWarning: Legend does not support 'S' instances.\n",
      "A proxy artist may be used instead.\n",
      "See: http://matplotlib.org/users/legend_guide.html#creating-artists-specifically-for-adding-to-the-legend-aka-proxy-artists\n",
      "  \"aka-proxy-artists\".format(orig_handle)\n",
      "C:\\Users\\Aidan\\Anaconda3\\lib\\site-packages\\matplotlib\\legend.py:794: UserWarning: Legend does not support 'c' instances.\n",
      "A proxy artist may be used instead.\n",
      "See: http://matplotlib.org/users/legend_guide.html#creating-artists-specifically-for-adding-to-the-legend-aka-proxy-artists\n",
      "  \"aka-proxy-artists\".format(orig_handle)\n",
      "C:\\Users\\Aidan\\Anaconda3\\lib\\site-packages\\matplotlib\\legend.py:794: UserWarning: Legend does not support 'a' instances.\n",
      "A proxy artist may be used instead.\n",
      "See: http://matplotlib.org/users/legend_guide.html#creating-artists-specifically-for-adding-to-the-legend-aka-proxy-artists\n",
      "  \"aka-proxy-artists\".format(orig_handle)\n",
      "C:\\Users\\Aidan\\Anaconda3\\lib\\site-packages\\matplotlib\\legend.py:794: UserWarning: Legend does not support 'l' instances.\n",
      "A proxy artist may be used instead.\n",
      "See: http://matplotlib.org/users/legend_guide.html#creating-artists-specifically-for-adding-to-the-legend-aka-proxy-artists\n",
      "  \"aka-proxy-artists\".format(orig_handle)\n",
      "C:\\Users\\Aidan\\Anaconda3\\lib\\site-packages\\matplotlib\\legend.py:794: UserWarning: Legend does not support 'e' instances.\n",
      "A proxy artist may be used instead.\n",
      "See: http://matplotlib.org/users/legend_guide.html#creating-artists-specifically-for-adding-to-the-legend-aka-proxy-artists\n",
      "  \"aka-proxy-artists\".format(orig_handle)\n",
      "C:\\Users\\Aidan\\Anaconda3\\lib\\site-packages\\matplotlib\\legend.py:794: UserWarning: Legend does not support ' ' instances.\n",
      "A proxy artist may be used instead.\n",
      "See: http://matplotlib.org/users/legend_guide.html#creating-artists-specifically-for-adding-to-the-legend-aka-proxy-artists\n",
      "  \"aka-proxy-artists\".format(orig_handle)\n",
      "C:\\Users\\Aidan\\Anaconda3\\lib\\site-packages\\matplotlib\\legend.py:794: UserWarning: Legend does not support '=' instances.\n",
      "A proxy artist may be used instead.\n",
      "See: http://matplotlib.org/users/legend_guide.html#creating-artists-specifically-for-adding-to-the-legend-aka-proxy-artists\n",
      "  \"aka-proxy-artists\".format(orig_handle)\n",
      "C:\\Users\\Aidan\\Anaconda3\\lib\\site-packages\\matplotlib\\legend.py:794: UserWarning: Legend does not support '1' instances.\n",
      "A proxy artist may be used instead.\n",
      "See: http://matplotlib.org/users/legend_guide.html#creating-artists-specifically-for-adding-to-the-legend-aka-proxy-artists\n",
      "  \"aka-proxy-artists\".format(orig_handle)\n",
      "C:\\Users\\Aidan\\Anaconda3\\lib\\site-packages\\matplotlib\\legend.py:794: UserWarning: Legend does not support '.' instances.\n",
      "A proxy artist may be used instead.\n",
      "See: http://matplotlib.org/users/legend_guide.html#creating-artists-specifically-for-adding-to-the-legend-aka-proxy-artists\n",
      "  \"aka-proxy-artists\".format(orig_handle)\n"
     ]
    },
    {
     "data": {
      "text/plain": [
       "[]"
      ]
     },
     "execution_count": 57,
     "metadata": {},
     "output_type": "execute_result"
    },
    {
     "data": {
      "image/png": "[encoded data removed]",
      "text/plain": [
       "<Figure size 432x288 with 1 Axes>"
      ]
     },
     "metadata": {},
     "output_type": "display_data"
    }
   ],
   "source": [
    " ex1 = np.random.exponential(scale=1.5, size=(10000))\n",
    "    \n",
    " ex2 = np.random.exponential(scale=.5, size=(10000))\n",
    "    \n",
    "count, bins, ignored = plt.hist(ex1, 60, density=True)\n",
    "count, bins, ignored = plt.hist(ex2, 60, density=True)\n",
    "\n",
    "plt.grid(axis='y', alpha=1)\n",
    "plt.xlabel('Value')\n",
    "plt.ylabel('Frequency')\n",
    "plt.title('Exponential Distrobution')\n",
    "plt.legend('Scale = 1.5','Scale = .5')\n",
    "\n",
    "\n",
    "\n",
    " plt.plot()   "
   ]
  },
  {
   "cell_type": "code",
   "execution_count": null,
   "metadata": {},
   "outputs": [],
   "source": []
  },
  {
   "cell_type": "code",
   "execution_count": null,
   "metadata": {},
   "outputs": [],
   "source": []
  },
  {
   "cell_type": "markdown",
   "metadata": {},
   "source": [
    "### Binomial"
   ]
  },
  {
   "cell_type": "markdown",
   "metadata": {},
   "source": [
    "A binomial distrobution is a distrobution for use when there are only two possible outcomes. The probality of an outcome must be equal to 1.0. An example of this would be flipping a coin the odds being 50/50. A binomial distrobution for a coin flip if done an adequate amount of times would normally distrobuted"
   ]
  },
  {
   "cell_type": "markdown",
   "metadata": {},
   "source": [
    "![Binomial Distrobution](img/binomial.jpg)"
   ]
  },
  {
   "cell_type": "markdown",
   "metadata": {},
   "source": [
    "The below plot shows a normally distrubted binomail. The chances of both elemnts in the binomial is 50//50"
   ]
  },
  {
   "cell_type": "code",
   "execution_count": 72,
   "metadata": {},
   "outputs": [
    {
     "data": {
      "text/plain": [
       "<function matplotlib.pyplot.show(*args, **kw)>"
      ]
     },
     "execution_count": 72,
     "metadata": {},
     "output_type": "execute_result"
    },
    {
     "data": {
      "image/png": "[encoded data removed]",
      "text/plain": [
       "<Figure size 432x288 with 1 Axes>"
      ]
     },
     "metadata": {},
     "output_type": "display_data"
    }
   ],
   "source": [
    "bi = np.random.binomial(10, .5, 100000) \n",
    "plt.hist(bi)\n",
    "plt.grid(axis='y', alpha=1)\n",
    "plt.xlabel('Value')\n",
    "plt.ylabel('Frequency')\n",
    "plt.title('Binomial Distrobution')\n",
    "\n",
    "plt.show"
   ]
  },
  {
   "cell_type": "markdown",
   "metadata": {},
   "source": [
    "In this binomial plot the probality is skewed left 75/25. Binomial disrtobution can be used for odds and proabblity selection. The area undereath the graph displays the problity of certain actions accuring. Example the probbilty of a coin being heads or tails multipe times"
   ]
  },
  {
   "cell_type": "code",
   "execution_count": 71,
   "metadata": {},
   "outputs": [
    {
     "data": {
      "text/plain": [
       "<function matplotlib.pyplot.show(*args, **kw)>"
      ]
     },
     "execution_count": 71,
     "metadata": {},
     "output_type": "execute_result"
    },
    {
     "data": {
      "image/png": "[encoded data removed]",
      "text/plain": [
       "<Figure size 432x288 with 1 Axes>"
      ]
     },
     "metadata": {},
     "output_type": "display_data"
    }
   ],
   "source": [
    "bi = np.random.binomial(10, .25, 100000) \n",
    "plt.hist(bi)\n",
    "plt.grid(axis='y', alpha=1)\n",
    "plt.xlabel('Value')\n",
    "plt.ylabel('Frequency')\n",
    "plt.title('Binomial Distrobution')\n",
    "\n",
    "plt.show"
   ]
  },
  {
   "cell_type": "code",
   "execution_count": 73,
   "metadata": {},
   "outputs": [
    {
     "data": {
      "text/plain": [
       "<function matplotlib.pyplot.show(*args, **kw)>"
      ]
     },
     "execution_count": 73,
     "metadata": {},
     "output_type": "execute_result"
    },
    {
     "data": {
      "image/png": "[encoded data removed]",
      "text/plain": [
       "<Figure size 432x288 with 1 Axes>"
      ]
     },
     "metadata": {},
     "output_type": "display_data"
    }
   ],
   "source": [
    "bi = np.random.binomial(10, .75, 100000) \n",
    "plt.hist(bi)\n",
    "plt.grid(axis='y', alpha=1)\n",
    "plt.xlabel('Value')\n",
    "plt.ylabel('Frequency')\n",
    "plt.title('Binomial Distrobution')\n",
    "\n",
    "plt.show"
   ]
  },
  {
   "cell_type": "markdown",
   "metadata": {},
   "source": [
    "### Poisson"
   ]
  },
  {
   "cell_type": "markdown",
   "metadata": {},
   "source": [
    "The poisson distrobution. Is a distrobution that helps determine the probabilty of an event accuring over a fixed number interval of time. This distrobution is used to forecast sales or predict occurances of an event in the future. Some examples of use are longterm weather prediction, climate change prediction and sales prediction."
   ]
  },
  {
   "cell_type": "markdown",
   "metadata": {},
   "source": [
    "![Poisson Distrobution](img/poisson.png)"
   ]
  },
  {
   "cell_type": "code",
   "execution_count": 74,
   "metadata": {},
   "outputs": [
    {
     "data": {
      "image/png": "[encoded data removed]",
      "text/plain": [
       "<Figure size 432x288 with 1 Axes>"
      ]
     },
     "metadata": {},
     "output_type": "display_data"
    }
   ],
   "source": [
    "pos = np.random.poisson(1, 10000)\n",
    "pos2 = np.random.poisson(10, 10000)\n",
    "pos3 = np.random.poisson(4, 10000)\n",
    "pos4 = np.random.poisson(15, 10000)\n",
    "\n",
    "m = np.mean(pos), np.mean(pos2),np.mean(pos3), np.mean(pos4)\n",
    "\n",
    "std = np.std(pos), np.std(pos2),  np.std(pos3), np.std(pos4)\n",
    "\n",
    "df = pd.DataFrame(\n",
    "     np.random.normal(loc=m, scale=std, size=(10000,4)),\n",
    "     columns=['Intensity = 1','Intensity = 10' ,'Intensity = 4','Intensity = 15' ])\n",
    "df.agg(['min', 'max', 'mean', 'std']).round(decimals=2)\n",
    "\n",
    "\n",
    "\n",
    "fig, ax = plt.subplots()\n",
    "df.plot.kde(ax=ax, legend=True, title='Poisson Distrobution')\n",
    "plt.grid(axis='y', alpha=1)\n",
    "\n",
    "\n",
    "plt.show()"
   ]
  },
  {
   "cell_type": "markdown",
   "metadata": {},
   "source": [
    "## Seeds"
   ]
  },
  {
   "cell_type": "code",
   "execution_count": null,
   "metadata": {},
   "outputs": [],
   "source": []
  },
  {
   "cell_type": "code",
   "execution_count": null,
   "metadata": {},
   "outputs": [],
   "source": []
  }
 ],
 "metadata": {
  "kernelspec": {
   "display_name": "Python 3",
   "language": "python",
   "name": "python3"
  },
  "language_info": {
   "codemirror_mode": {
    "name": "ipython",
    "version": 3
   },
   "file_extension": ".py",
   "mimetype": "text/x-python",
   "name": "python",
   "nbconvert_exporter": "python",
   "pygments_lexer": "ipython3",
   "version": "3.6.5"
  }
 },
 "nbformat": 4,
 "nbformat_minor": 2
}
