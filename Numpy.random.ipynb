{
 "cells": [
  {
   "cell_type": "markdown",
   "metadata": {},
   "source": [
    "# The Numpy Random Package"
   ]
  },
  {
   "cell_type": "code",
   "execution_count": 2,
   "metadata": {},
   "outputs": [],
   "source": [
    "import numpy as np\n",
    "import matplotlib.pyplot as plt"
   ]
  },
  {
   "cell_type": "markdown",
   "metadata": {},
   "source": [
    "Importing packages that will be used within this notebook"
   ]
  },
  {
   "cell_type": "markdown",
   "metadata": {},
   "source": [
    "## Purpose of the Package"
   ]
  },
  {
   "cell_type": "markdown",
   "metadata": {},
   "source": [
    "## Simple Random Data"
   ]
  },
  {
   "cell_type": "markdown",
   "metadata": {},
   "source": [
    "### Rand"
   ]
  },
  {
   "cell_type": "markdown",
   "metadata": {},
   "source": [
    "The rand function (np.random.rand) creates poaitives random numbers between 0.0 and 1.0 within a set number of coulumns and set number of rows."
   ]
  },
  {
   "cell_type": "code",
   "execution_count": 40,
   "metadata": {},
   "outputs": [
    {
     "data": {
      "text/plain": [
       "([array([1., 0., 0., 1., 0., 0., 0., 0., 0., 1.]),\n",
       "  array([1., 0., 0., 0., 0., 0., 1., 0., 1., 0.])],\n",
       " array([0.20844532, 0.28305012, 0.35765493, 0.43225973, 0.50686453,\n",
       "        0.58146933, 0.65607414, 0.73067894, 0.80528374, 0.87988854,\n",
       "        0.95449335]),\n",
       " <a list of 2 Lists of Patches objects>)"
      ]
     },
     "execution_count": 40,
     "metadata": {},
     "output_type": "execute_result"
    },
    {
     "data": {
      "image/png": "[encoded data removed]",
      "text/plain": [
       "<Figure size 432x288 with 1 Axes>"
      ]
     },
     "metadata": {},
     "output_type": "display_data"
    }
   ],
   "source": [
    "x = np.random.rand(3,2)\n",
    "plt.title('Sample')\n",
    "plt.hist(x)"
   ]
  },
  {
   "cell_type": "code",
   "execution_count": 41,
   "metadata": {},
   "outputs": [
    {
     "data": {
      "text/plain": [
       "array([[0.24308541, 0.80794381],\n",
       "       [0.95449335, 0.20844532],\n",
       "       [0.46930492, 0.68431403]])"
      ]
     },
     "execution_count": 41,
     "metadata": {},
     "output_type": "execute_result"
    }
   ],
   "source": [
    "x"
   ]
  },
  {
   "cell_type": "markdown",
   "metadata": {},
   "source": [
    "The function creates an array of 3 rows and 2 columns. The first input indicates the number of rows while the second input indicates the number of columns."
   ]
  },
  {
   "cell_type": "code",
   "execution_count": 42,
   "metadata": {},
   "outputs": [
    {
     "data": {
      "text/plain": [
       "([array([0., 1., 0., 3., 2., 1., 0., 0., 0., 1.]),\n",
       "  array([2., 0., 0., 0., 0., 1., 0., 2., 0., 3.])],\n",
       " array([0.03724725, 0.13090346, 0.22455968, 0.3182159 , 0.41187212,\n",
       "        0.50552834, 0.59918455, 0.69284077, 0.78649699, 0.88015321,\n",
       "        0.97380943]),\n",
       " <a list of 2 Lists of Patches objects>)"
      ]
     },
     "execution_count": 42,
     "metadata": {},
     "output_type": "execute_result"
    },
    {
     "data": {
      "image/png": "[encoded data removed]",
      "text/plain": [
       "<Figure size 432x288 with 1 Axes>"
      ]
     },
     "metadata": {},
     "output_type": "display_data"
    }
   ],
   "source": [
    "y = np.random.rand(8,2)\n",
    "plt.title('Rows Change')\n",
    "plt.hist(y)"
   ]
  },
  {
   "cell_type": "code",
   "execution_count": 43,
   "metadata": {},
   "outputs": [
    {
     "data": {
      "text/plain": [
       "array([[0.42531983, 0.03813936],\n",
       "       [0.91308935, 0.97380943],\n",
       "       [0.40828662, 0.74311433],\n",
       "       [0.49820322, 0.93882598],\n",
       "       [0.18419513, 0.55996562],\n",
       "       [0.59585494, 0.03724725],\n",
       "       [0.33048471, 0.89398581],\n",
       "       [0.40861232, 0.69886828]])"
      ]
     },
     "execution_count": 43,
     "metadata": {},
     "output_type": "execute_result"
    }
   ],
   "source": [
    "y"
   ]
  },
  {
   "cell_type": "markdown",
   "metadata": {},
   "source": [
    "In this plot I have changed the value of the first input changing the number of rows. The rows are indicated by the amount of bars on the histogram while the columns are indicated by the different colours. If there is more than one integer from the same column between an interval of 0.1 they are grouped together and shown as one bar."
   ]
  },
  {
   "cell_type": "code",
   "execution_count": 44,
   "metadata": {},
   "outputs": [
    {
     "data": {
      "text/plain": [
       "([array([0., 0., 0., 0., 1., 0., 0., 1., 0., 1.]),\n",
       "  array([0., 1., 0., 1., 0., 0., 0., 1., 0., 0.]),\n",
       "  array([1., 1., 0., 0., 0., 0., 0., 0., 0., 1.]),\n",
       "  array([2., 0., 0., 0., 0., 0., 0., 0., 0., 1.]),\n",
       "  array([0., 0., 1., 0., 0., 0., 0., 1., 1., 0.]),\n",
       "  array([0., 0., 0., 0., 0., 1., 0., 0., 0., 2.])],\n",
       " array([0.02294399, 0.11341843, 0.20389287, 0.29436731, 0.38484174,\n",
       "        0.47531618, 0.56579062, 0.65626506, 0.74673949, 0.83721393,\n",
       "        0.92768837]),\n",
       " <a list of 6 Lists of Patches objects>)"
      ]
     },
     "execution_count": 44,
     "metadata": {},
     "output_type": "execute_result"
    },
    {
     "data": {
      "image/png": "[encoded data removed]",
      "text/plain": [
       "<Figure size 432x288 with 1 Axes>"
      ]
     },
     "metadata": {},
     "output_type": "display_data"
    }
   ],
   "source": [
    "z = np.random.rand(3,6)\n",
    "plt.title('Columns Change')\n",
    "plt.hist(z)"
   ]
  },
  {
   "cell_type": "code",
   "execution_count": 45,
   "metadata": {},
   "outputs": [
    {
     "data": {
      "text/plain": [
       "array([[0.47503743, 0.66887417, 0.02294399, 0.84565564, 0.76038165,\n",
       "        0.50860825],\n",
       "       [0.65841404, 0.35135157, 0.18242808, 0.11053354, 0.66965211,\n",
       "        0.92149275],\n",
       "       [0.92090698, 0.16410059, 0.92768837, 0.07571352, 0.26703838,\n",
       "        0.87578667]])"
      ]
     },
     "execution_count": 45,
     "metadata": {},
     "output_type": "execute_result"
    }
   ],
   "source": [
    "z"
   ]
  },
  {
   "cell_type": "markdown",
   "metadata": {},
   "source": [
    "In this dataset it is the second input that has changed. This input controls the number of columns in the dataset. Thease columns are reprsented as colours in the histogram above."
   ]
  },
  {
   "cell_type": "code",
   "execution_count": 47,
   "metadata": {},
   "outputs": [
    {
     "data": {
      "text/plain": [
       "([array([13.,  3., 11., 16.,  9., 10.,  9.,  9., 10., 10.]),\n",
       "  array([11.,  8., 12., 12.,  7., 11.,  6., 10., 14.,  9.]),\n",
       "  array([12., 15., 11.,  7.,  9.,  5., 12.,  9., 10., 10.]),\n",
       "  array([ 8., 16.,  9.,  9., 16.,  7.,  5., 13.,  9.,  8.]),\n",
       "  array([13., 12.,  4., 15.,  7.,  9.,  9., 11., 14.,  6.]),\n",
       "  array([13.,  9.,  6.,  6.,  9., 15.,  9., 10., 13., 10.]),\n",
       "  array([ 9., 12.,  7.,  7.,  9., 15., 11., 12., 11.,  7.]),\n",
       "  array([ 2.,  6., 14., 18., 11.,  9., 12.,  9., 10.,  9.]),\n",
       "  array([ 8., 14.,  9.,  8.,  7., 10., 16.,  9.,  6., 13.]),\n",
       "  array([ 8.,  7.,  7., 15., 13., 14., 11.,  9.,  9.,  7.]),\n",
       "  array([14.,  6., 11., 10.,  7., 10., 11., 12., 10.,  9.]),\n",
       "  array([12.,  5., 10.,  9., 11.,  7., 20., 10.,  9.,  7.]),\n",
       "  array([11.,  9., 18.,  6., 10., 11.,  8.,  4.,  6., 17.]),\n",
       "  array([ 9.,  7., 10., 11.,  9.,  7.,  9., 16., 12., 10.]),\n",
       "  array([11., 10.,  7., 13.,  6.,  9., 14., 12., 10.,  8.]),\n",
       "  array([11., 11.,  8., 11.,  7.,  7., 15., 10., 11.,  9.]),\n",
       "  array([11.,  7., 10., 11.,  9., 10., 11., 14., 13.,  4.]),\n",
       "  array([11.,  7., 15., 12.,  9., 13.,  9.,  5., 12.,  7.]),\n",
       "  array([14., 17., 11., 10.,  8.,  9.,  6.,  7., 10.,  8.]),\n",
       "  array([13.,  7.,  7.,  8., 15.,  6., 11., 13., 10., 10.]),\n",
       "  array([11.,  9.,  9.,  6., 19., 10., 10., 12.,  4., 10.]),\n",
       "  array([14.,  6.,  9., 11.,  3., 11., 12., 16.,  6., 12.]),\n",
       "  array([11.,  8., 10., 11.,  8.,  9., 12.,  9., 12., 10.]),\n",
       "  array([ 7., 14., 18.,  8.,  8.,  9., 11.,  4.,  7., 14.]),\n",
       "  array([10., 12., 11.,  6.,  6., 10.,  7., 12., 18.,  8.]),\n",
       "  array([ 7.,  8.,  7., 12., 12., 11., 13.,  9., 11., 10.]),\n",
       "  array([10.,  9.,  9.,  7., 11., 10., 13., 11., 10., 10.]),\n",
       "  array([14., 14.,  8., 10., 10.,  7.,  9., 11.,  5., 12.]),\n",
       "  array([ 8., 10., 10., 11., 10.,  7., 11.,  9., 12., 12.]),\n",
       "  array([ 7., 11., 15.,  9.,  9.,  8.,  9., 12., 12.,  8.]),\n",
       "  array([10., 19.,  5., 12., 14.,  5.,  7., 13., 11.,  4.]),\n",
       "  array([10., 10.,  8., 10., 15., 10.,  7.,  7., 11., 12.]),\n",
       "  array([17.,  6.,  8.,  6.,  3., 15., 12.,  8., 12., 13.]),\n",
       "  array([ 5.,  9., 15., 11., 13.,  9., 11.,  6., 11., 10.]),\n",
       "  array([15., 12.,  8.,  9., 10.,  7.,  6.,  6., 15., 12.]),\n",
       "  array([ 9., 15., 10.,  8., 16.,  2.,  6., 12., 12., 10.]),\n",
       "  array([11., 13., 15.,  7.,  8., 11., 10., 12.,  5.,  8.]),\n",
       "  array([14., 12.,  9., 13.,  9., 14.,  5.,  6.,  9.,  9.]),\n",
       "  array([15.,  6., 11., 12.,  9., 12., 11.,  6., 10.,  8.]),\n",
       "  array([ 7.,  7.,  4., 16.,  4.,  8., 18., 12., 11., 13.]),\n",
       "  array([ 7.,  8.,  5., 13.,  7., 12., 10., 10., 12., 16.]),\n",
       "  array([ 8., 12., 11.,  7.,  7., 11., 10., 13., 11., 10.]),\n",
       "  array([12., 11., 13.,  8.,  5.,  8.,  9., 15., 11.,  8.]),\n",
       "  array([ 8.,  7.,  9., 10.,  9., 14.,  9., 12., 10., 12.]),\n",
       "  array([13., 10., 10., 11., 14., 11.,  8.,  4.,  9., 10.]),\n",
       "  array([10.,  8., 13., 13.,  9., 12., 10., 11.,  8.,  6.]),\n",
       "  array([14., 14.,  7., 10., 11.,  6., 10., 12.,  9.,  7.]),\n",
       "  array([ 8., 14.,  7.,  8., 12., 10.,  8., 10., 12., 11.]),\n",
       "  array([13.,  6., 10., 11.,  8.,  8., 12., 11., 13.,  8.]),\n",
       "  array([ 8.,  6., 13., 16.,  7.,  8., 13., 11.,  8., 10.]),\n",
       "  array([ 8.,  9., 10., 10., 11., 10., 10., 13.,  7., 12.]),\n",
       "  array([13., 11.,  8.,  6., 12., 11., 12.,  9.,  9.,  9.]),\n",
       "  array([11.,  7.,  9.,  9.,  9., 11., 12., 11., 11., 10.]),\n",
       "  array([ 9.,  9., 11.,  9.,  9., 14.,  7., 11.,  8., 13.]),\n",
       "  array([11.,  3., 11., 10., 15.,  8., 10.,  9., 12., 11.]),\n",
       "  array([15.,  4., 12., 17.,  7., 10.,  8.,  9.,  9.,  9.]),\n",
       "  array([12., 12.,  6., 10., 13.,  9., 12.,  8.,  9.,  9.]),\n",
       "  array([ 5.,  5., 11., 12., 11., 10., 13., 10., 11., 12.]),\n",
       "  array([14., 10., 14., 13.,  5.,  8.,  9., 13.,  7.,  7.]),\n",
       "  array([ 9.,  5., 13., 12., 15.,  9., 13., 10., 10.,  4.]),\n",
       "  array([10., 15., 10.,  6., 12.,  9.,  9., 11., 13.,  5.]),\n",
       "  array([ 5., 11.,  7., 12., 13., 14.,  9.,  8., 10., 11.]),\n",
       "  array([11., 13.,  8., 11., 12.,  4., 10.,  8.,  7., 16.]),\n",
       "  array([10., 11.,  8.,  9., 14.,  7., 11., 11.,  7., 12.]),\n",
       "  array([19.,  6.,  8., 13., 11.,  6.,  7.,  9., 14.,  7.]),\n",
       "  array([11., 10., 15., 14.,  6.,  8., 10., 11.,  7.,  8.]),\n",
       "  array([ 8.,  9., 11.,  5.,  6., 10., 10., 10., 14., 17.]),\n",
       "  array([ 5., 14., 13., 12., 10., 13., 12., 10.,  5.,  6.]),\n",
       "  array([ 9.,  8.,  7., 12., 15.,  8.,  9., 12., 12.,  8.]),\n",
       "  array([11., 11., 11.,  9.,  9., 12.,  7., 14.,  9.,  7.]),\n",
       "  array([ 9., 11.,  8.,  6.,  9., 14.,  9., 12., 10., 12.]),\n",
       "  array([11.,  8., 12., 15.,  8., 18.,  5.,  8.,  4., 11.]),\n",
       "  array([11., 15.,  8., 10.,  9.,  9., 11., 14.,  7.,  6.]),\n",
       "  array([10., 10., 13., 12.,  9.,  8., 12.,  9., 11.,  6.]),\n",
       "  array([12., 12.,  5.,  9.,  7.,  8., 15., 12.,  8., 12.]),\n",
       "  array([ 8.,  8., 13., 13.,  7., 12.,  8., 13.,  7., 11.]),\n",
       "  array([15.,  6., 15., 11.,  7., 13.,  9., 10.,  8.,  6.]),\n",
       "  array([ 6.,  9., 10.,  9., 12., 16.,  7.,  7.,  9., 15.]),\n",
       "  array([ 5.,  7.,  9., 11., 18.,  9., 12.,  9.,  9., 11.]),\n",
       "  array([ 9., 11., 10.,  8., 12., 12., 10.,  6., 14.,  8.]),\n",
       "  array([11.,  9., 10., 12.,  8., 12.,  6.,  6.,  8., 18.]),\n",
       "  array([ 7.,  7., 12.,  8.,  6., 17., 17.,  8., 10.,  8.]),\n",
       "  array([11., 12.,  7., 13., 10.,  9., 11.,  9.,  7., 11.]),\n",
       "  array([10.,  8.,  8.,  7., 16., 14., 11.,  6.,  9., 11.]),\n",
       "  array([ 7.,  7., 12.,  8., 10., 15., 11., 10.,  7., 13.]),\n",
       "  array([10.,  9.,  9., 10., 11.,  7., 12., 13.,  9., 10.]),\n",
       "  array([10., 10., 11., 11.,  9.,  9.,  6., 13.,  8., 13.]),\n",
       "  array([10., 12., 10., 12., 10.,  8.,  7.,  8.,  8., 15.]),\n",
       "  array([ 7., 13., 10.,  7., 12.,  6., 12., 13., 11.,  9.]),\n",
       "  array([13., 17.,  6.,  9., 11.,  6.,  8., 10., 12.,  8.]),\n",
       "  array([ 7., 18., 13.,  9.,  8., 16., 14.,  3.,  2., 10.]),\n",
       "  array([12., 12.,  9.,  8., 11., 11.,  9.,  7., 10., 11.]),\n",
       "  array([ 8., 12.,  8., 12.,  8., 10., 10., 11., 10., 11.]),\n",
       "  array([ 9.,  7.,  9.,  7., 15.,  4., 17., 13.,  7., 12.]),\n",
       "  array([ 4., 10., 13.,  8.,  7., 13., 15., 12.,  7., 11.]),\n",
       "  array([ 9.,  8., 11.,  8., 12.,  9., 15.,  8.,  7., 13.]),\n",
       "  array([14., 14., 11., 14., 12.,  8.,  8.,  8.,  6.,  5.]),\n",
       "  array([12., 11., 13., 12., 10., 10.,  9.,  3., 11.,  9.]),\n",
       "  array([ 5., 14.,  6., 16., 12.,  8., 15.,  6.,  8., 10.]),\n",
       "  array([20.,  7.,  8., 11., 14.,  7.,  7.,  6., 10., 10.])],\n",
       " array([5.38613956e-05, 1.00048427e-01, 2.00042992e-01, 3.00037557e-01,\n",
       "        4.00032122e-01, 5.00026687e-01, 6.00021252e-01, 7.00015818e-01,\n",
       "        8.00010383e-01, 9.00004948e-01, 9.99999513e-01]),\n",
       " <a list of 100 Lists of Patches objects>)"
      ]
     },
     "execution_count": 47,
     "metadata": {},
     "output_type": "execute_result"
    },
    {
     "data": {
      "image/png": "[encoded data removed]",
      "text/plain": [
       "<Figure size 432x288 with 1 Axes>"
      ]
     },
     "metadata": {},
     "output_type": "display_data"
    }
   ],
   "source": [
    "j = np.random.rand(100,100)\n",
    "plt.title('Larger Dataset')\n",
    "plt.hist(j)"
   ]
  },
  {
   "cell_type": "markdown",
   "metadata": {},
   "source": [
    "The plot above uses the .rand function in a much larger dataset 100*100. This plot allows me to see that the data is created under a uniform distribution. ie the random data is distributed evenly between the numbers 0.0 and 1.0. It would be much more dificult to see this from a smaller sample"
   ]
  },
  {
   "cell_type": "code",
   "execution_count": 48,
   "metadata": {
    "scrolled": true
   },
   "outputs": [
    {
     "data": {
      "image/png": "[encoded data removed]",
      "text/plain": [
       "<Figure size 432x288 with 4 Axes>"
      ]
     },
     "metadata": {},
     "output_type": "display_data"
    }
   ],
   "source": [
    "plt.subplot(2, 2, 1)\n",
    "plt.title('Control')\n",
    "plt.hist(x)\n",
    "\n",
    "plt.subplot(2, 2, 2)\n",
    "plt.title('Rows Change')\n",
    "plt.hist(y)\n",
    "\n",
    "plt.subplot(2, 2, 3)\n",
    "plt.title('Columns Change')\n",
    "plt.hist(z)\n",
    "\n",
    "plt.subplot(2,2,4)\n",
    "plt.title('Larger Dataset')\n",
    "plt.hist(j)\n",
    "\n",
    "\n",
    "plt.show()"
   ]
  },
  {
   "cell_type": "markdown",
   "metadata": {},
   "source": [
    "In this final plot for np.random.rand I show all the plots against each other to visulize the changes side by side"
   ]
  },
  {
   "cell_type": "markdown",
   "metadata": {},
   "source": [
    "### Randn"
   ]
  },
  {
   "cell_type": "markdown",
   "metadata": {},
   "source": [
    "The np.random.rand function returns a number or numbers within a shape of the normal standard distribution.  A normal distribution is where the data is around a central location and not biased left ot right. A standard normal distribution is a normal distribution with a mean of 0 meaning its central points is over the point 0. And has a standard deviation of 1. The shape this dataset makes is sometimes called a bell curve."
   ]
  },
  {
   "cell_type": "code",
   "execution_count": 55,
   "metadata": {},
   "outputs": [
    {
     "data": {
      "text/plain": [
       "1.402062441328773"
      ]
     },
     "execution_count": 55,
     "metadata": {},
     "output_type": "execute_result"
    }
   ],
   "source": [
    "np.random.randn()"
   ]
  },
  {
   "cell_type": "code",
   "execution_count": 63,
   "metadata": {},
   "outputs": [
    {
     "data": {
      "text/plain": [
       "(array([  7.,  19.,  67., 146., 231., 252., 174.,  77.,  23.,   4.]),\n",
       " array([-3.23708965, -2.59581687, -1.95454408, -1.3132713 , -0.67199851,\n",
       "        -0.03072572,  0.61054706,  1.25181985,  1.89309264,  2.53436542,\n",
       "         3.17563821]),\n",
       " <a list of 10 Patch objects>)"
      ]
     },
     "execution_count": 63,
     "metadata": {},
     "output_type": "execute_result"
    },
    {
     "data": {
      "image/png": "[encoded data removed]",
      "text/plain": [
       "<Figure size 432x288 with 1 Axes>"
      ]
     },
     "metadata": {},
     "output_type": "display_data"
    }
   ],
   "source": [
    "a = np.random.randn(1000)\n",
    "plt.hist(a)"
   ]
  },
  {
   "cell_type": "markdown",
   "metadata": {},
   "source": [
    "The graph a above shows the plot with a mean of 0 in a bell curve shape ."
   ]
  },
  {
   "cell_type": "markdown",
   "metadata": {},
   "source": [
    "## Permutations"
   ]
  },
  {
   "cell_type": "markdown",
   "metadata": {},
   "source": [
    "## Distrubutions"
   ]
  },
  {
   "cell_type": "markdown",
   "metadata": {},
   "source": [
    "## Seeds"
   ]
  },
  {
   "cell_type": "code",
   "execution_count": null,
   "metadata": {},
   "outputs": [],
   "source": []
  }
 ],
 "metadata": {
  "kernelspec": {
   "display_name": "Python 3",
   "language": "python",
   "name": "python3"
  },
  "language_info": {
   "codemirror_mode": {
    "name": "ipython",
    "version": 3
   },
   "file_extension": ".py",
   "mimetype": "text/x-python",
   "name": "python",
   "nbconvert_exporter": "python",
   "pygments_lexer": "ipython3",
   "version": "3.6.5"
  }
 },
 "nbformat": 4,
 "nbformat_minor": 2
}
