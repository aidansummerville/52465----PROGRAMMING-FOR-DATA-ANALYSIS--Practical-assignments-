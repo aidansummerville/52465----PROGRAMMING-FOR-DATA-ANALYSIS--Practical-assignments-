{
 "cells": [
  {
   "cell_type": "markdown",
   "metadata": {},
   "source": [
    "# The Numpy Random Package"
   ]
  },
  {
   "cell_type": "code",
   "execution_count": 2,
   "metadata": {},
   "outputs": [],
   "source": [
    "import numpy as np\n",
    "import matplotlib.pyplot as plt"
   ]
  },
  {
   "cell_type": "markdown",
   "metadata": {},
   "source": [
    "Importing packages that will be used within this notebook"
   ]
  },
  {
   "cell_type": "markdown",
   "metadata": {},
   "source": [
    "## Purpose of the Package"
   ]
  },
  {
   "cell_type": "markdown",
   "metadata": {},
   "source": [
    "## Simple Random Data"
   ]
  },
  {
   "cell_type": "markdown",
   "metadata": {},
   "source": [
    "### Rand & Randn"
   ]
  },
  {
   "cell_type": "markdown",
   "metadata": {},
   "source": [
    "The rand function (np.random.rand) creates positives random uniform numbers within an array. The numbers can range from 0.0 and 1.0 and the user can input the paramater for the number of rows and then the paramters for the number of columns."
   ]
  },
  {
   "cell_type": "markdown",
   "metadata": {},
   "source": [
    "The np.random.randn function returns a number or numbers within a shape of the normal standard distribution. A normal distribution is where the data is around a central location and not biased left ot right. A standard normal distribution is a normal distribution with a mean of 0 meaning its central points is over the point 0. And has a standard deviation of 1. The shape this dataset makes is sometimes called a bell curve."
   ]
  },
  {
   "cell_type": "code",
   "execution_count": 4,
   "metadata": {},
   "outputs": [
    {
     "data": {
      "text/plain": [
       "(array([  29.,  212.,  775., 2081., 3009., 2425., 1142.,  283.,   38.,\n",
       "           6.]),\n",
       " array([-3.54508104, -2.78116341, -2.01724579, -1.25332817, -0.48941055,\n",
       "         0.27450708,  1.0384247 ,  1.80234232,  2.56625995,  3.33017757,\n",
       "         4.09409519]),\n",
       " <a list of 10 Patch objects>)"
      ]
     },
     "execution_count": 4,
     "metadata": {},
     "output_type": "execute_result"
    },
    {
     "data": {
      "image/png": "[encoded data removed]",
      "text/plain": [
       "<Figure size 432x288 with 2 Axes>"
      ]
     },
     "metadata": {},
     "output_type": "display_data"
    }
   ],
   "source": [
    "r = np.random.rand(10000)\n",
    "plt.subplot(1, 2, 1)\n",
    "plt.title('Rand')\n",
    "plt.hist(r)\n",
    "\n",
    "rn = np.random.randn(10000)\n",
    "plt.subplot(1, 2, 2)\n",
    "plt.title('Randn')\n",
    "plt.hist(rn)"
   ]
  },
  {
   "cell_type": "markdown",
   "metadata": {},
   "source": [
    "The above plots show the Rand and Randn functions from numpy.random. The plots have the same parameters as each other difference are the functions. The rand function creates data that is uniform or evenly distributed across the range of the graph. The randn function creates normal data or data that is in the shape of a bell curve, it is also standard normal data which means the mean is 0, the peak is centered around 0. The standard deviation is also 1."
   ]
  },
  {
   "cell_type": "code",
   "execution_count": 7,
   "metadata": {},
   "outputs": [
    {
     "data": {
      "text/plain": [
       "([array([0., 0., 0., 0., 1., 1., 0., 0., 0., 0.]),\n",
       "  array([0., 0., 0., 0., 0., 0., 1., 1., 0., 0.]),\n",
       "  array([1., 0., 0., 0., 1., 0., 0., 0., 0., 0.]),\n",
       "  array([0., 0., 1., 0., 0., 0., 0., 0., 0., 1.]),\n",
       "  array([0., 0., 0., 0., 1., 1., 0., 0., 0., 0.]),\n",
       "  array([0., 0., 0., 0., 2., 0., 0., 0., 0., 0.])],\n",
       " array([-1.89560067, -1.55902248, -1.22244428, -0.88586609, -0.5492879 ,\n",
       "        -0.2127097 ,  0.12386849,  0.46044668,  0.79702488,  1.13360307,\n",
       "         1.47018126]),\n",
       " <a list of 6 Lists of Patches objects>)"
      ]
     },
     "execution_count": 7,
     "metadata": {},
     "output_type": "execute_result"
    },
    {
     "data": {
      "image/png": "[encoded data removed]",
      "text/plain": [
       "<Figure size 432x288 with 2 Axes>"
      ]
     },
     "metadata": {},
     "output_type": "display_data"
    }
   ],
   "source": [
    "r1 = np.random.rand(2,6)\n",
    "plt.subplot(1, 2, 1)\n",
    "plt.title('Rand')\n",
    "plt.hist(r1)\n",
    "\n",
    "rn1= np.random.randn(2,6)\n",
    "plt.subplot(1, 2, 2)\n",
    "plt.title('Randn')\n",
    "plt.hist(rn1)"
   ]
  },
  {
   "cell_type": "markdown",
   "metadata": {},
   "source": [
    "In the above plots the paramters of rows and columns have been added to the plots. The parameters are  in both cases identical.\n",
    "The rows are represented by different colours on the plot. While the columns are represented by the number of times that colour appears."
   ]
  },
  {
   "cell_type": "code",
   "execution_count": 17,
   "metadata": {},
   "outputs": [
    {
     "data": {
      "text/plain": [
       "([array([0., 0., 0., 2., 3., 1., 0., 0., 0., 0.]),\n",
       "  array([1., 1., 1., 1., 0., 1., 0., 0., 0., 1.])],\n",
       " array([-1.88555379, -1.48759913, -1.08964446, -0.6916898 , -0.29373514,\n",
       "         0.10421953,  0.50217419,  0.90012885,  1.29808352,  1.69603818,\n",
       "         2.09399284]),\n",
       " <a list of 2 Lists of Patches objects>)"
      ]
     },
     "execution_count": 17,
     "metadata": {},
     "output_type": "execute_result"
    },
    {
     "data": {
      "image/png": "[encoded data removed]",
      "text/plain": [
       "<Figure size 432x288 with 2 Axes>"
      ]
     },
     "metadata": {},
     "output_type": "display_data"
    }
   ],
   "source": [
    "r2 = np.random.rand(6,2)\n",
    "plt.subplot(1, 2, 1)\n",
    "plt.title('Rand')\n",
    "plt.hist(r2)\n",
    "\n",
    "rn2= np.random.randn(6,2)\n",
    "plt.subplot(1, 2, 2)\n",
    "plt.title('Randn')\n",
    "plt.hist(rn2)"
   ]
  },
  {
   "cell_type": "markdown",
   "metadata": {},
   "source": [
    "This plot has the size of the parameters reversed. Showing a larger number of columns represented by the number of times the colour appears."
   ]
  },
  {
   "cell_type": "markdown",
   "metadata": {},
   "source": [
    "Both the rand and randn functions work almost indetically creating arrays of a certain amount of rows and columns that is decided the by the parameters input by the user. The only diference is the type of data created by the functions. Rand creating uniform and randn creating standard normal data."
   ]
  },
  {
   "cell_type": "markdown",
   "metadata": {},
   "source": [
    "### Randint & Random_integers"
   ]
  },
  {
   "cell_type": "markdown",
   "metadata": {},
   "source": [
    "Randint and Random_integers functions both work very simlarly. They take inputs of low, high and size and both use discrete uniform distribution. The functions generates random whole numbers between the low and high limits until each space in the array is filled. Each number has the same likely hood of being represented at each output no mater weather it has already been resprented previously in the array."
   ]
  },
  {
   "cell_type": "code",
   "execution_count": 56,
   "metadata": {},
   "outputs": [
    {
     "name": "stderr",
     "output_type": "stream",
     "text": [
      "C:\\Users\\Aidan\\Anaconda3\\lib\\site-packages\\ipykernel_launcher.py:6: DeprecationWarning: This function is deprecated. Please call randint(1, 5 + 1) instead\n",
      "  \n"
     ]
    },
    {
     "data": {
      "text/plain": [
       "(array([4., 0., 1., 0., 0., 0., 0., 2., 0., 3.]),\n",
       " array([1. , 1.4, 1.8, 2.2, 2.6, 3. , 3.4, 3.8, 4.2, 4.6, 5. ]),\n",
       " <a list of 10 Patch objects>)"
      ]
     },
     "execution_count": 56,
     "metadata": {},
     "output_type": "execute_result"
    },
    {
     "data": {
      "image/png": "[encoded data removed]",
      "text/plain": [
       "<Figure size 432x288 with 2 Axes>"
      ]
     },
     "metadata": {},
     "output_type": "display_data"
    }
   ],
   "source": [
    "ri = np.random.randint(5, size=(10))\n",
    "plt.subplot(1, 2, 1)\n",
    "plt.title('Randint')\n",
    "plt.hist(ri)\n",
    "\n",
    "rint = np.random.random_integers(5, size=(10))\n",
    "plt.subplot(1, 2, 2)\n",
    "plt.title('Random_integers')\n",
    "plt.hist(rint)"
   ]
  },
  {
   "cell_type": "markdown",
   "metadata": {},
   "source": [
    "Both the randint and random_integers plots above have identical paramenters. In both cases if no high parameter is present the low parameter in this case 5 becomes the high paramter and the low parameter becomes 0 in the randint cases and 1 in random_integers case. Randint highiest value = high-1(5-1). Random_integer = High (5)"
   ]
  },
  {
   "cell_type": "code",
   "execution_count": 52,
   "metadata": {},
   "outputs": [
    {
     "name": "stderr",
     "output_type": "stream",
     "text": [
      "C:\\Users\\Aidan\\Anaconda3\\lib\\site-packages\\ipykernel_launcher.py:6: DeprecationWarning: This function is deprecated. Please call randint(1, 5 + 1) instead\n",
      "  \n"
     ]
    },
    {
     "data": {
      "text/plain": [
       "([array([0., 0., 0., 0., 0., 2., 0., 0., 0., 0.]),\n",
       "  array([1., 0., 0., 0., 0., 0., 0., 0., 0., 1.]),\n",
       "  array([2., 0., 0., 0., 0., 0., 0., 0., 0., 0.]),\n",
       "  array([0., 0., 0., 0., 0., 2., 0., 0., 0., 0.])],\n",
       " array([2. , 2.2, 2.4, 2.6, 2.8, 3. , 3.2, 3.4, 3.6, 3.8, 4. ]),\n",
       " <a list of 4 Lists of Patches objects>)"
      ]
     },
     "execution_count": 52,
     "metadata": {},
     "output_type": "execute_result"
    },
    {
     "data": {
      "image/png": "[encoded data removed]",
      "text/plain": [
       "<Figure size 432x288 with 2 Axes>"
      ]
     },
     "metadata": {},
     "output_type": "display_data"
    }
   ],
   "source": [
    "ri1 = np.random.randint(5, size=(2,4))\n",
    "plt.subplot(1, 2, 1)\n",
    "plt.title('Randint')\n",
    "plt.hist(ri1)\n",
    "\n",
    "rint1 = np.random.random_integers(5, size=(2,4))\n",
    "plt.subplot(1, 2, 2)\n",
    "plt.title('Random_integers')\n",
    "plt.hist(rint1)"
   ]
  },
  {
   "cell_type": "markdown",
   "metadata": {},
   "source": [
    "Adding a second variable the size parameter creates an array of rows and columns simliarly to the rand & randn functions. The rows are represented by colours and the coulumns by the number of times the colours appear"
   ]
  },
  {
   "cell_type": "code",
   "execution_count": 58,
   "metadata": {},
   "outputs": [
    {
     "name": "stderr",
     "output_type": "stream",
     "text": [
      "C:\\Users\\Aidan\\Anaconda3\\lib\\site-packages\\ipykernel_launcher.py:6: DeprecationWarning: This function is deprecated. Please call randint(5, 10 + 1) instead\n",
      "  \n"
     ]
    },
    {
     "data": {
      "text/plain": [
       "(array([4., 0., 3., 0., 2., 0., 4., 0., 2., 5.]),\n",
       " array([ 5. ,  5.5,  6. ,  6.5,  7. ,  7.5,  8. ,  8.5,  9. ,  9.5, 10. ]),\n",
       " <a list of 10 Patch objects>)"
      ]
     },
     "execution_count": 58,
     "metadata": {},
     "output_type": "execute_result"
    },
    {
     "data": {
      "image/png": "[encoded data removed]",
      "text/plain": [
       "<Figure size 432x288 with 2 Axes>"
      ]
     },
     "metadata": {},
     "output_type": "display_data"
    }
   ],
   "source": [
    "ri2 = np.random.randint(5,high =10, size=(20))\n",
    "plt.subplot(1, 2, 1)\n",
    "plt.title('Randint')\n",
    "plt.hist(ri2)\n",
    "\n",
    "rint2 = np.random.random_integers(5, high= 10 ,size=(20))\n",
    "plt.subplot(1, 2, 2)\n",
    "plt.title('Random_integers')\n",
    "plt.hist(rint2)"
   ]
  },
  {
   "cell_type": "markdown",
   "metadata": {},
   "source": [
    "In the plots above the the high parameter has been added to both plots. This moves the paramter that was acting as the high paramter when only one existed to the low parameter and. the new paramter becomes the high value. While when there is no low paramter set the randint starts from 0 and the random_integer starts from 1. When the low paramter is set both functions start from that value."
   ]
  },
  {
   "cell_type": "markdown",
   "metadata": {},
   "source": [
    "### Random_sample, Random, Ranf & Sample"
   ]
  },
  {
   "cell_type": "code",
   "execution_count": 6,
   "metadata": {},
   "outputs": [
    {
     "data": {
      "text/plain": [
       "(array([2., 0., 0., 0., 0., 0., 1., 0., 0., 2.]),\n",
       " array([0.29296535, 0.33870332, 0.3844413 , 0.43017928, 0.47591725,\n",
       "        0.52165523, 0.56739321, 0.61313118, 0.65886916, 0.70460714,\n",
       "        0.75034511]),\n",
       " <a list of 10 Patch objects>)"
      ]
     },
     "execution_count": 6,
     "metadata": {},
     "output_type": "execute_result"
    },
    {
     "data": {
      "image/png": "[encoded data removed]",
      "text/plain": [
       "<Figure size 432x288 with 2 Axes>"
      ]
     },
     "metadata": {},
     "output_type": "display_data"
    }
   ],
   "source": [
    "\n",
    "rs = np.random.random_sample((5,))\n",
    "plt.subplot(1, 2, 1)\n",
    "plt.title('Random_sample')\n",
    "plt.hist(rs)\n",
    "\n",
    "ran = np.random.random((5,))\n",
    "plt.subplot(1, 2, 2)\n",
    "plt.title('Random')\n",
    "plt.hist(ran)"
   ]
  },
  {
   "cell_type": "code",
   "execution_count": null,
   "metadata": {},
   "outputs": [],
   "source": []
  }
 ],
 "metadata": {
  "kernelspec": {
   "display_name": "Python 3",
   "language": "python",
   "name": "python3"
  },
  "language_info": {
   "codemirror_mode": {
    "name": "ipython",
    "version": 3
   },
   "file_extension": ".py",
   "mimetype": "text/x-python",
   "name": "python",
   "nbconvert_exporter": "python",
   "pygments_lexer": "ipython3",
   "version": "3.6.5"
  }
 },
 "nbformat": 4,
 "nbformat_minor": 2
}
