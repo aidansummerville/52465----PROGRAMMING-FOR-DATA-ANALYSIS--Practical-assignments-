{
 "cells": [
  {
   "cell_type": "markdown",
   "metadata": {},
   "source": [
    "## The Numpy Random Package"
   ]
  },
  {
   "cell_type": "code",
   "execution_count": 2,
   "metadata": {},
   "outputs": [],
   "source": [
    "import numpy as np\n",
    "import matplotlib.pyplot as plt"
   ]
  },
  {
   "cell_type": "code",
   "execution_count": 16,
   "metadata": {},
   "outputs": [
    {
     "data": {
      "text/plain": [
       "([array([2., 0., 0., 0., 0., 0., 0., 1., 0., 1.]),\n",
       "  array([0., 0., 2., 0., 0., 1., 0., 0., 0., 1.]),\n",
       "  array([1., 1., 0., 0., 0., 0., 0., 1., 1., 0.]),\n",
       "  array([0., 1., 0., 1., 1., 0., 0., 1., 0., 0.])],\n",
       " array([0.01021194, 0.10758165, 0.20495135, 0.30232106, 0.39969076,\n",
       "        0.49706046, 0.59443017, 0.69179987, 0.78916958, 0.88653928,\n",
       "        0.98390899]),\n",
       " <a list of 4 Lists of Patches objects>)"
      ]
     },
     "execution_count": 16,
     "metadata": {},
     "output_type": "execute_result"
    },
    {
     "data": {
      "image/png": "[encoded data removed]",
      "text/plain": [
       "<Figure size 432x288 with 1 Axes>"
      ]
     },
     "metadata": {},
     "output_type": "display_data"
    }
   ],
   "source": [
    "k= np.random.rand(4,4)\n",
    "plt.hist(k)"
   ]
  },
  {
   "cell_type": "code",
   "execution_count": 21,
   "metadata": {},
   "outputs": [
    {
     "data": {
      "text/plain": [
       "array([[-0.16458221,  0.93063778, -0.72745565, -1.98388454],\n",
       "       [-0.02436342,  1.68250268, -0.68788328, -1.46637718],\n",
       "       [ 0.83473539, -0.21769132, -0.22810003,  1.08010257],\n",
       "       [ 0.75101817, -0.13477985, -0.55923385,  0.43639461]])"
      ]
     },
     "execution_count": 21,
     "metadata": {},
     "output_type": "execute_result"
    }
   ],
   "source": [
    "np.random.randn(4,4) \n"
   ]
  },
  {
   "cell_type": "code",
   "execution_count": 24,
   "metadata": {},
   "outputs": [],
   "source": [
    "h = 2.5 * np.random.randn(2, 10) + 3\n"
   ]
  },
  {
   "cell_type": "code",
   "execution_count": 23,
   "metadata": {},
   "outputs": [
    {
     "data": {
      "text/plain": [
       "([array([0., 0., 0., 0., 0., 0., 0., 0., 1., 1.]),\n",
       "  array([0., 0., 0., 0., 0., 1., 1., 0., 0., 0.]),\n",
       "  array([0., 0., 0., 1., 0., 0., 0., 1., 0., 0.]),\n",
       "  array([0., 0., 0., 0., 0., 1., 0., 0., 0., 1.]),\n",
       "  array([0., 0., 1., 0., 0., 1., 0., 0., 0., 0.]),\n",
       "  array([0., 0., 0., 1., 0., 0., 0., 0., 1., 0.]),\n",
       "  array([0., 0., 0., 1., 0., 0., 0., 1., 0., 0.]),\n",
       "  array([1., 0., 0., 0., 0., 1., 0., 0., 0., 0.]),\n",
       "  array([0., 0., 0., 0., 0., 0., 0., 2., 0., 0.]),\n",
       "  array([0., 0., 1., 1., 0., 0., 0., 0., 0., 0.])],\n",
       " array([-4.70159271, -3.50040042, -2.29920813, -1.09801583,  0.10317646,\n",
       "         1.30436876,  2.50556105,  3.70675335,  4.90794564,  6.10913794,\n",
       "         7.31033023]),\n",
       " <a list of 10 Lists of Patches objects>)"
      ]
     },
     "execution_count": 23,
     "metadata": {},
     "output_type": "execute_result"
    },
    {
     "data": {
      "image/png": "[encoded data removed]",
      "text/plain": [
       "<Figure size 432x288 with 1 Axes>"
      ]
     },
     "metadata": {},
     "output_type": "display_data"
    }
   ],
   "source": [
    "plt.hist(h)"
   ]
  },
  {
   "cell_type": "code",
   "execution_count": 25,
   "metadata": {},
   "outputs": [
    {
     "data": {
      "text/plain": [
       "array([0.42688118, 0.98374615, 0.43487999, ..., 0.18099244, 0.92214508,\n",
       "       0.27985733])"
      ]
     },
     "execution_count": 25,
     "metadata": {},
     "output_type": "execute_result"
    }
   ],
   "source": [
    "x = np.random.rand(10000)\n",
    "x"
   ]
  },
  {
   "cell_type": "code",
   "execution_count": 26,
   "metadata": {},
   "outputs": [
    {
     "data": {
      "text/plain": [
       "<function matplotlib.pyplot.show(*args, **kw)>"
      ]
     },
     "execution_count": 26,
     "metadata": {},
     "output_type": "execute_result"
    },
    {
     "data": {
      "image/png": "[encoded data removed]",
      "text/plain": [
       "<Figure size 432x288 with 1 Axes>"
      ]
     },
     "metadata": {},
     "output_type": "display_data"
    }
   ],
   "source": [
    "plt.hist(x)\n",
    "plt.show"
   ]
  },
  {
   "cell_type": "code",
   "execution_count": null,
   "metadata": {},
   "outputs": [],
   "source": []
  }
 ],
 "metadata": {
  "kernelspec": {
   "display_name": "Python 3",
   "language": "python",
   "name": "python3"
  },
  "language_info": {
   "codemirror_mode": {
    "name": "ipython",
    "version": 3
   },
   "file_extension": ".py",
   "mimetype": "text/x-python",
   "name": "python",
   "nbconvert_exporter": "python",
   "pygments_lexer": "ipython3",
   "version": "3.6.5"
  }
 },
 "nbformat": 4,
 "nbformat_minor": 2
}
